{
 "cells": [
  {
   "cell_type": "markdown",
   "id": "c3f7561a-68cf-4cb3-a3d5-62a6ac612152",
   "metadata": {},
   "source": [
    "\"My Jupyter Notebook on IBM Watson Studio\"\n"
   ]
  },
  {
   "cell_type": "markdown",
   "id": "aae30c15-e798-4823-b2d5-d4d453f89771",
   "metadata": {},
   "source": [
    "**Abhinav Anand**\n",
    "\n",
    "Trainee Data Scientist"
   ]
  },
  {
   "cell_type": "markdown",
   "id": "58299b14-0c55-4a54-bb9c-e61c408f4237",
   "metadata": {},
   "source": [
    "*I am interested in data science because i love to extract insights from the data*"
   ]
  },
  {
   "cell_type": "markdown",
   "id": "f5c6a8ce-9786-4920-9803-d857d144e101",
   "metadata": {},
   "source": [
    "My code is going to add two numbers i.e. 2 and 5 "
   ]
  },
  {
   "cell_type": "code",
   "execution_count": 2,
   "id": "6ee4f047-a6b5-40fd-9aaf-b5c25949a55e",
   "metadata": {},
   "outputs": [
    {
     "name": "stdout",
     "output_type": "stream",
     "text": [
      "10\n"
     ]
    }
   ],
   "source": [
    "\n",
    "one = 2\n",
    "two = 5\n",
    "print (one*two)"
   ]
  },
  {
   "cell_type": "markdown",
   "id": "3fc96ec2-748b-4883-9c01-e454807f3133",
   "metadata": {},
   "source": [
    "|x|y|z|\n",
    "|-|-|-|\n",
    "|1|2|3|\n",
    "|4|5|6|\n",
    "|3|5|9|\n",
    "\n",
    "\n",
    "\n",
    "\n",
    "\n",
    "\n",
    "\n",
    ">Data scientists should have curious, argumentative and judgemental.\n",
    ">\n",
    ">And one important quality a data scientist would have is ability to tell story.\n",
    "\n",
    "\n",
    "\n",
    "~strike~"
   ]
  },
  {
   "cell_type": "code",
   "execution_count": null,
   "id": "4c9bfcd1-46ad-49ab-9b45-a04b4e2efcf1",
   "metadata": {},
   "outputs": [],
   "source": []
  }
 ],
 "metadata": {
  "kernelspec": {
   "display_name": "Python",
   "language": "python",
   "name": "conda-env-python-py"
  },
  "language_info": {
   "codemirror_mode": {
    "name": "ipython",
    "version": 3
   },
   "file_extension": ".py",
   "mimetype": "text/x-python",
   "name": "python",
   "nbconvert_exporter": "python",
   "pygments_lexer": "ipython3",
   "version": "3.7.12"
  }
 },
 "nbformat": 4,
 "nbformat_minor": 5
}
